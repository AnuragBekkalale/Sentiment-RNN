{
 "cells": [
  {
   "cell_type": "markdown",
   "metadata": {
    "deletable": true,
    "editable": true
   },
   "source": [
    "# Sentiment Analysis with an RNN\n",
    "\n",
    "In this notebook, you'll implement a recurrent neural network that performs sentiment analysis. Using an RNN rather than a feedfoward network is more accurate since we can include information about the *sequence* of words. Here we'll use a dataset of movie reviews, accompanied by labels.\n",
    "\n",
    "The architecture for this network is shown below.\n",
    "\n",
    "<img src=\"assets/network_diagram.png\" width=400px>\n",
    "\n",
    "Here, we'll pass in words to an embedding layer. We need an embedding layer because we have tens of thousands of words, so we'll need a more efficient representation for our input data than one-hot encoded vectors. You should have seen this before from the word2vec lesson. You can actually train up an embedding with word2vec and use it here. But it's good enough to just have an embedding layer and let the network learn the embedding table on it's own.\n",
    "\n",
    "From the embedding layer, the new representations will be passed to LSTM cells. These will add recurrent connections to the network so we can include information about the sequence of words in the data. Finally, the LSTM cells will go to a sigmoid output layer here. We're using the sigmoid because we're trying to predict if this text has positive or negative sentiment. The output layer will just be a single unit then, with a sigmoid activation function.\n",
    "\n",
    "We don't care about the sigmoid outputs except for the very last one, we can ignore the rest. We'll calculate the cost from the output of the last step and the training label."
   ]
  },
  {
   "cell_type": "code",
   "execution_count": 1,
   "metadata": {
    "collapsed": true,
    "deletable": true,
    "editable": true
   },
   "outputs": [],
   "source": [
    "import numpy as np\n",
    "import tensorflow as tf"
   ]
  },
  {
   "cell_type": "code",
   "execution_count": 45,
   "metadata": {
    "collapsed": false,
    "deletable": true,
    "editable": true
   },
   "outputs": [],
   "source": [
    "with open('reviews.txt', 'r') as f:\n",
    "    reviews = f.read()\n",
    "with open('labels.txt', 'r') as f:\n",
    "    labels = f.read()"
   ]
  },
  {
   "cell_type": "code",
   "execution_count": 46,
   "metadata": {
    "collapsed": false,
    "deletable": true,
    "editable": true
   },
   "outputs": [
    {
     "data": {
      "text/plain": [
       "'bromwell high is a cartoon comedy . it ran at the same time as some other programs about school life  such as  teachers  . my   years in the teaching profession lead me to believe that bromwell high  s satire is much closer to reality than is  teachers  . the scramble to survive financially  the insightful students who can see right through their pathetic teachers  pomp  the pettiness of the whole situation  all remind me of the schools i knew and their students . when i saw the episode in which a student repeatedly tried to burn down the school  i immediately recalled . . . . . . . . . at . . . . . . . . . . high . a classic line inspector i  m here to sack one of your teachers . student welcome to bromwell high . i expect that many adults of my age think that bromwell high is far fetched . what a pity that it isn  t   \\nstory of a man who has unnatural feelings for a pig . starts out with a opening scene that is a terrific example of absurd comedy . a formal orchestra audience is turned into an insane  violent mob by the crazy chantings of it  s singers . unfortunately it stays absurd the whole time with no general narrative eventually making it just too off putting . even those from the era should be turned off . the cryptic dialogue would make shakespeare seem easy to a third grader . on a technical level it  s better than you might think with some good cinematography by future great vilmos zsigmond . future stars sally kirkland and frederic forrest can be seen briefly .  \\nhomelessness  or houselessness as george carlin stated  has been an issue for years but never a plan to help those on the street that were once considered human who did everything from going to school  work  or vote for the matter . most people think of the homeless as just a lost cause while worrying about things such as racism  the war on iraq  pressuring kids to succeed  technology  the elections  inflation  or worrying if they  ll be next to end up on the streets .  br    br   but what if y'"
      ]
     },
     "execution_count": 46,
     "metadata": {},
     "output_type": "execute_result"
    }
   ],
   "source": [
    "reviews[:2000]"
   ]
  },
  {
   "cell_type": "markdown",
   "metadata": {
    "deletable": true,
    "editable": true
   },
   "source": [
    "## Data preprocessing\n",
    "\n",
    "The first step when building a neural network model is getting your data into the proper form to feed into the network. Since we're using embedding layers, we'll need to encode each word with an integer. We'll also want to clean it up a bit.\n",
    "\n",
    "You can see an example of the reviews data above. We'll want to get rid of those periods. Also, you might notice that the reviews are delimited with newlines `\\n`. To deal with those, I'm going to split the text into each review using `\\n` as the delimiter. Then I can combined all the reviews back together into one big string.\n",
    "\n",
    "First, let's remove all punctuation. Then get all the text without the newlines and split it into individual words."
   ]
  },
  {
   "cell_type": "code",
   "execution_count": null,
   "metadata": {
    "collapsed": true,
    "deletable": true,
    "editable": true
   },
   "outputs": [],
   "source": [
    "from string import punctuation\n",
    "all_text = ''.join([c for c in reviews if c not in punctuation])\n",
    "reviews = all_text.split('\\n')\n",
    "\n",
    "all_text = ' '.join(reviews)\n",
    "words = all_text.split()"
   ]
  },
  {
   "cell_type": "code",
   "execution_count": null,
   "metadata": {
    "collapsed": false,
    "deletable": true,
    "editable": true
   },
   "outputs": [],
   "source": [
    "all_text[:2000]"
   ]
  },
  {
   "cell_type": "code",
   "execution_count": null,
   "metadata": {
    "collapsed": false,
    "deletable": true,
    "editable": true
   },
   "outputs": [],
   "source": [
    "words[:100]"
   ]
  },
  {
   "cell_type": "code",
   "execution_count": null,
   "metadata": {
    "collapsed": false
   },
   "outputs": [],
   "source": [
    "print(type(reviews), len(reviews), reviews[0])"
   ]
  },
  {
   "cell_type": "markdown",
   "metadata": {
    "deletable": true,
    "editable": true
   },
   "source": [
    "### Encoding the words\n",
    "\n",
    "The embedding lookup requires that we pass in integers to our network. The easiest way to do this is to create dictionaries that map the words in the vocabulary to integers. Then we can convert each of our reviews into integers so they can be passed into the network.\n",
    "\n",
    "> **Exercise:** Now you're going to encode the words with integers. Build a dictionary that maps words to integers. Later we're going to pad our input vectors with zeros, so make sure the integers **start at 1, not 0**.\n",
    "> Also, convert the reviews to integers and store the reviews in a new list called `reviews_ints`. "
   ]
  },
  {
   "cell_type": "code",
   "execution_count": 17,
   "metadata": {
    "collapsed": false,
    "deletable": true,
    "editable": true
   },
   "outputs": [],
   "source": [
    "# Create your dictionary that maps vocab words to integers here\n",
    "\n",
    "# vocab_to_int = {word:idx+1 for idx,word in enumerate(set(words)) }\n",
    "\n",
    "from collections import Counter\n",
    "counts = Counter(words)\n",
    "vocab = sorted(counts, key=counts.get, reverse=True)\n",
    "vocab_to_int = {word: ii for ii, word in enumerate(vocab, 1)}\n",
    "\n",
    "# Convert the reviews to integers, same shape as reviews list, but with integers\n",
    "reviews_int = []\n",
    "for review in reviews:\n",
    "    reviews_int.append([vocab_to_int[word] for word in review.split()])"
   ]
  },
  {
   "cell_type": "markdown",
   "metadata": {
    "collapsed": false,
    "deletable": true,
    "editable": true
   },
   "source": [
    "### Encoding the labels\n",
    "\n",
    "Our labels are \"positive\" or \"negative\". To use these labels in our network, we need to convert them to 0 and 1.\n",
    "\n",
    "> **Exercise:** Convert labels from `positive` and `negative` to 1 and 0, respectively."
   ]
  },
  {
   "cell_type": "code",
   "execution_count": 20,
   "metadata": {
    "collapsed": false,
    "deletable": true,
    "editable": true
   },
   "outputs": [],
   "source": [
    "# Convert labels to 1s and 0s for 'positive' and 'negative'\n",
    "labels[:100]\n",
    "labels = list(labels.split('\\n'))"
   ]
  },
  {
   "cell_type": "code",
   "execution_count": 23,
   "metadata": {
    "collapsed": false
   },
   "outputs": [],
   "source": [
    "labels=np.array([1 if label=='positive' else 0 for label in labels])"
   ]
  },
  {
   "cell_type": "markdown",
   "metadata": {},
   "source": [
    "If you built `labels` correctly, you should see the next output."
   ]
  },
  {
   "cell_type": "code",
   "execution_count": 29,
   "metadata": {
    "collapsed": false,
    "deletable": true,
    "editable": true
   },
   "outputs": [
    {
     "name": "stdout",
     "output_type": "stream",
     "text": [
      "Zero-length reviews: 1\n",
      "Maximum review length: 2514\n"
     ]
    }
   ],
   "source": [
    "from collections import Counter\n",
    "\n",
    "review_lens = Counter([len(x) for x in reviews_int])\n",
    "print(\"Zero-length reviews: {}\".format(review_lens[0]))\n",
    "print(\"Maximum review length: {}\".format(max(review_lens)))"
   ]
  },
  {
   "cell_type": "markdown",
   "metadata": {
    "deletable": true,
    "editable": true
   },
   "source": [
    "Okay, a couple issues here. We seem to have one review with zero length. And, the maximum review length is way too many steps for our RNN. Let's truncate to 200 steps. For reviews shorter than 200, we'll pad with 0s. For reviews longer than 200, we can truncate them to the first 200 characters.\n",
    "\n",
    "> **Exercise:** First, remove the review with zero length from the `reviews_ints` list."
   ]
  },
  {
   "cell_type": "code",
   "execution_count": 28,
   "metadata": {
    "collapsed": false,
    "deletable": true,
    "editable": true
   },
   "outputs": [],
   "source": [
    "# Filter out that review with 0 length\n",
    "reviews_ints = [review_int for review_int in reviews_int if len(review_int)>0]"
   ]
  },
  {
   "cell_type": "code",
   "execution_count": 30,
   "metadata": {
    "collapsed": false
   },
   "outputs": [
    {
     "name": "stdout",
     "output_type": "stream",
     "text": [
      "Zero-length reviews: 0\n",
      "Maximum review length: 2514\n"
     ]
    }
   ],
   "source": [
    "review_lens = Counter([len(x) for x in reviews_ints])\n",
    "print(\"Zero-length reviews: {}\".format(review_lens[0]))\n",
    "print(\"Maximum review length: {}\".format(max(review_lens)))"
   ]
  },
  {
   "cell_type": "markdown",
   "metadata": {
    "deletable": true,
    "editable": true
   },
   "source": [
    "> **Exercise:** Now, create an array `features` that contains the data we'll pass to the network. The data should come from `review_ints`, since we want to feed integers to the network. Each row should be 200 elements long. For reviews shorter than 200 words, left pad with 0s. That is, if the review is `['best', 'movie', 'ever']`, `[117, 18, 128]` as integers, the row will look like `[0, 0, 0, ..., 0, 117, 18, 128]`. For reviews longer than 200, use on the first 200 words as the feature vector.\n",
    "\n",
    "This isn't trivial and there are a bunch of ways to do this. But, if you're going to be building your own deep learning networks, you're going to have to get used to preparing your data.\n",
    "\n"
   ]
  },
  {
   "cell_type": "code",
   "execution_count": 41,
   "metadata": {
    "collapsed": false,
    "deletable": true,
    "editable": true
   },
   "outputs": [],
   "source": [
    "seq_len = 200\n",
    "features = []\n",
    "for review in reviews_ints:\n",
    "    if len(review)<seq_len:\n",
    "        arr= [0 for _ in range(seq_len-len(review))]\n",
    "        for i in review:\n",
    "            arr.append(i)\n",
    "        features.append(arr)\n",
    "    else:\n",
    "        features.append(review[:seq_len])\n",
    "        \n",
    "features = np.array(features)"
   ]
  },
  {
   "cell_type": "markdown",
   "metadata": {},
   "source": [
    "If you build features correctly, it should look like that cell output below."
   ]
  },
  {
   "cell_type": "code",
   "execution_count": 42,
   "metadata": {
    "collapsed": false,
    "scrolled": false
   },
   "outputs": [
    {
     "data": {
      "text/plain": [
       "array([[24474, 37669, 21980, 66712, 30710, 11917, 50826, 59673, 63784,\n",
       "        30829, 66953, 45649, 25917, 53092, 29901, 48523, 40282, 70826,\n",
       "        54158, 11394,  1133, 53092, 65670, 53092, 22647,  8374, 66125,\n",
       "        53343, 24022, 19688, 39813, 56932, 11272, 23274, 63172,  5155,\n",
       "        68638, 62486, 65670,  7014, 69656, 54983, 53343, 18990,  8374,\n",
       "        66125, 60441, 24022,  8805, 65670,  6248, 58769, 63172, 54733,\n",
       "        63172, 70848, 65670, 70226, 56145, 11917, 66125, 30110, 24022,\n",
       "        55756, 65670, 36765, 24022, 20040, 34131, 27956, 68638, 30710,\n",
       "        21857, 71116, 53343, 29750, 23179, 60577, 27956,  3102, 40712,\n",
       "        10462, 45649, 29778, 68638, 30710, 53343, 60831, 53388, 65670,\n",
       "        57140, 44688, 24474,  4755, 59511, 26169, 65670, 24404,  7525,\n",
       "        72416],\n",
       "       [24474, 66712,  2364, 15060, 24022, 58233,  6002, 59673,  9289,\n",
       "        65670, 54158,   601, 68638, 48034, 61869, 24639, 25917, 11180,\n",
       "        67515, 51459, 67739, 13354, 45488, 45488, 66467, 64857, 68638,\n",
       "        17920, 26235,  5421, 40740, 45649, 56193, 65670, 30078, 11467,\n",
       "        43063, 60431,  5421,  4407, 24022, 51201, 34076, 24022, 32409,\n",
       "         5000, 56145,  6398, 24022, 53624, 50184, 21857, 68638, 59511,\n",
       "        60441, 33824, 24514, 66927, 27956, 18655, 65670, 61261, 24514,\n",
       "        54457,  2544, 65991, 54983, 45488, 45488, 48792, 59673, 24022,\n",
       "        35205, 18080, 55658, 11577, 73071, 24474, 57254, 24022, 26676,\n",
       "        33219, 23133, 53631, 24022, 70366, 42095, 10211, 34208, 41272,\n",
       "        18080, 24022,  7904, 65670, 24022, 46036, 55658, 68638, 52320,\n",
       "         8233],\n",
       "       [  815, 59673, 25649, 26916, 14473,  8374, 48660, 37300, 58843,\n",
       "         9441, 48798, 68638, 44584, 45877, 45649, 18278, 44811, 68638,\n",
       "         1056,  5472, 68638, 36268, 70285, 65670, 24022, 63929, 38803,\n",
       "        11692, 27956,  5733, 66712, 60441, 47628, 68638, 61182, 48660,\n",
       "        59673, 68638, 70799, 45649, 71116, 24514, 45649, 68638, 52443,\n",
       "        11272, 45649, 25917, 53092, 24022, 10211, 14087, 68638, 36858,\n",
       "        45649, 17911, 14087, 24022, 23367, 65670, 24022, 34346, 34208,\n",
       "        47520, 59673, 42309, 21857, 70378, 19274, 18105, 25145, 15997,\n",
       "         5599, 13584, 65670, 61261, 68638, 22374, 45649, 15997,   326,\n",
       "        51516, 68638, 36858, 39065, 55658, 55252, 26916, 18080, 35948,\n",
       "        55045, 60970, 60431,  5421, 39769, 71116, 27956, 67739, 63172,\n",
       "        42492],\n",
       "       [68638, 62251, 45649, 61000, 13433, 59673, 24022, 47689, 55978,\n",
       "         7904, 53343, 14087, 68638, 52365, 56176,  8374, 17930, 69133,\n",
       "        38611, 58138, 11834,  8406, 36528, 22868, 27521, 68638, 37935,\n",
       "        30345, 32230, 53993, 58233, 30710, 61261, 68638, 53162, 66712,\n",
       "         2593, 23009, 11272, 70378, 23009, 11272, 65670, 10593, 24760,\n",
       "        62528,  9577, 27629, 21857, 27521, 53343, 72467, 68771, 24022,\n",
       "        23009, 30710, 54983, 51896, 24022, 27251, 30710, 27251, 36014,\n",
       "        54983, 55150, 59064,  5315, 24474, 16973, 27251, 47628, 36014,\n",
       "        68638, 52381, 66472, 27956, 62413, 14855, 46378, 24022, 59511,\n",
       "         6398, 67975, 10711,  4390, 52365, 36014,  6214, 27850, 10618,\n",
       "        61182,  2364, 68645, 60259, 19497, 65670, 11331, 25145, 18299,\n",
       "        36796],\n",
       "       [40282, 70826, 51896, 71116, 53343, 66686, 24022, 33254, 26995,\n",
       "        55658, 51157, 36896, 65670, 61411, 24022, 47593, 33375, 42309,\n",
       "        55756,   601, 61869, 68638, 59231, 45649, 66712, 52964, 50526,\n",
       "        68667, 54983, 51896, 11577, 21941,  2364,  8374, 51260, 53135,\n",
       "        42309, 65670,  9255, 45488, 45488, 17548, 29261, 53343,  2183,\n",
       "        32491,  3009, 55658, 61182, 32477,  1787, 23270, 61333, 13878,\n",
       "        65670, 25110, 66125, 51896, 24022, 38189,  3935,  7349, 55658,\n",
       "        28830, 10901, 65670, 24022,  2907, 24474, 67656, 45488, 45488,\n",
       "         4873, 37157, 53343, 32630, 45125, 63172, 68638,  9853, 17455,\n",
       "        13584, 23887, 46460, 27956, 24022,  9526, 23499, 58492, 34208,\n",
       "        16178, 17585, 24514, 12936, 57968, 27956, 68638,  4102, 45649,\n",
       "        56443],\n",
       "       [23274, 24022,  6593, 54681,  2364, 21857, 54983, 54158, 63062,\n",
       "        37669, 65670, 63784, 43245, 34208, 58592, 56104, 27956, 24760,\n",
       "        68638,  2364, 32491, 68638, 66467, 52004, 58138, 68638, 71584,\n",
       "        54983, 33547, 16203, 24022, 70848,  2364, 21857, 54983, 14337,\n",
       "         1867, 27956, 67739, 24022,  1867,  1867,  1517, 24022, 23009,\n",
       "         1517, 21857, 24514, 56176,  8374, 49134, 12755, 53343, 68638,\n",
       "         5403, 25145, 43533, 41483, 33649,  6214, 27850, 36351, 15997,\n",
       "        30702, 45649, 68638,  2364, 57107, 43063, 62516,  5403, 21857,\n",
       "        26916, 18080, 35948, 55045,  8374, 41272, 26898, 68638,  2364,\n",
       "        24837, 54158, 37676, 72312, 35650, 70767, 23897, 49588, 72119,\n",
       "        25917, 53020, 55658, 67110, 67437,  4981, 68638, 23989, 68638,\n",
       "        16271],\n",
       "       [    0,     0,     0,     0,     0,     0,     0,     0,     0,\n",
       "            0,     0,     0,     0,     0,     0,     0,     0,     0,\n",
       "            0,     0,     0,     0,     0,     0,     0,     0,     0,\n",
       "            0,     0,     0,     0,     0,     0,     0,     0,     0,\n",
       "            0,     0,     0,     0,     0,     0,     0,     0,     0,\n",
       "            0,     0,     0,     0,     0,     0,     0,     0,     0,\n",
       "            0,     0,     0,     0,     0,     0,     0,     0,     0,\n",
       "            0,     0,     0,     0,     0,     0,     0,     0,     0,\n",
       "            0,     0,     0,     0,     0,     0,     0,     0,     0,\n",
       "            0,     0,     0,     0,     0,     0,     0,     0,     0,\n",
       "            0,     0,     0,     0,     0,     0,     0,     0,     0,\n",
       "            0],\n",
       "       [26916,  2540,  5421, 50554, 27956,  2722, 14087, 68638, 55756,\n",
       "        21857, 33824, 52644, 35948, 67975, 26916,  2540,  5421, 50554,\n",
       "        27956, 54296, 24022, 17065, 45649, 50804, 44171, 15378, 58138,\n",
       "        68638,  2364, 21857,  2350, 53343, 52365,  8018, 24474, 16203,\n",
       "         8961,  4491,  8374, 59064, 15108, 26916,  2540,  5421, 50554,\n",
       "        27956, 34535,  9593, 68638, 40049,  6083, 51478,  8179, 21857,\n",
       "        54983, 60441, 63172, 21295, 63172, 33674,   710, 24022,  7886,\n",
       "        49571,  2364, 26916,  2540,  5421, 50554, 27956,   726, 45649,\n",
       "        68638, 18948, 45649, 68638, 35671, 70848, 21857, 26916, 18080,\n",
       "        35948, 16203, 49862, 23179, 45488, 45488, 31493, 45488, 45488,\n",
       "        25917, 59673, 25917, 66712,  2364, 53343,  1722, 24474, 31089,\n",
       "        58911],\n",
       "       [71116, 11331, 25145, 40282, 70826,  8466, 24022, 62654, 42309,\n",
       "        55756, 32491, 68638, 50526, 63579, 45649, 68638, 71116, 68638,\n",
       "        59511, 53343, 34296, 38257,  6398, 72467, 24474, 63047, 34208,\n",
       "        42309, 72976,  8374, 67118, 65670, 37937, 65670, 40049, 69133,\n",
       "        59673,  8179, 68638, 17587, 45649, 68638,  2364, 41272, 67739,\n",
       "         5739,  1867, 16566,  8961, 45649, 68638,  7797, 45649, 68638,\n",
       "        30710, 21857, 68638, 42309, 55756, 53343, 11577, 24404, 24514,\n",
       "        14871,  4873, 36657, 53343, 25461, 63172, 74036, 11577,  8830,\n",
       "        40199, 55937, 27116, 25145, 68848, 38016, 31367, 64510, 32491,\n",
       "        68638, 39091, 74036, 39065, 23970, 17548, 29261, 24022, 29217,\n",
       "        13584,  5249, 32491,  3102, 23989, 27956, 55294,  4491, 53007,\n",
       "         3102],\n",
       "       [    0,     0,     0,     0,     0,     0,     0,     0,     0,\n",
       "            0,     0,     0,     0,     0,     0,     0,     0,     0,\n",
       "            0,     0,     0,     0,     0,     0,     0,     0,     0,\n",
       "            0,     0,     0,     0,     0,     0,     0,     0,     0,\n",
       "            0,     0,     0,     0,     0,     0,     0,     0,     0,\n",
       "            0,     0,     0,     0,     0,     0,     0,     0,     0,\n",
       "            0,     0,     0,     0,     0,     0,     0,     0,     0,\n",
       "            0,     0,     0,     0,     0,     0,     0,     0,     0,\n",
       "            0,     0,     0,     0,     0,     0,     0,     0,     0,\n",
       "            0,     0,     0, 66712, 53343, 68638, 52443, 53410, 45649,\n",
       "        26916, 18080, 26661, 66609, 58769, 54158, 53343,  3102, 32230,\n",
       "        45649]])"
      ]
     },
     "execution_count": 42,
     "metadata": {},
     "output_type": "execute_result"
    }
   ],
   "source": [
    "features[90:100,:100]"
   ]
  },
  {
   "cell_type": "code",
   "execution_count": 43,
   "metadata": {
    "collapsed": false,
    "deletable": true,
    "editable": true
   },
   "outputs": [
    {
     "data": {
      "text/plain": [
       "array([[    0,     0,     0,     0,     0,     0,     0,     0,     0,\n",
       "            0,     0,     0,     0,     0,     0,     0,     0,     0,\n",
       "            0,     0,     0,     0,     0,     0,     0,     0,     0,\n",
       "            0,     0,     0,     0,     0,     0,     0,     0,     0,\n",
       "            0,     0,     0,     0,     0,     0,     0,     0,     0,\n",
       "            0,     0,     0,     0,     0,     0,     0,     0,     0,\n",
       "            0,     0,     0,     0,     0,     0, 24330, 10488, 53343,\n",
       "        24022, 17529,  1517, 54983, 63345, 61261, 68638, 52320, 53092,\n",
       "        63172, 62528, 40712, 23909, 14087, 66085, 67656, 23274, 63172,\n",
       "        37892, 63784, 33631, 59673, 68638, 73308, 70217, 51924, 37669,\n",
       "        27956, 65096,  8374, 24330, 10488, 51896, 21084, 53343, 23179,\n",
       "        66872],\n",
       "       [    0,     0,     0,     0,     0,     0,     0,     0,     0,\n",
       "            0,     0,     0,     0,     0,     0,     0,     0,     0,\n",
       "            0,     0,     0,     0,     0,     0,     0,     0,     0,\n",
       "            0,     0,     0,     0,     0,     0,     0,     0,     0,\n",
       "            0,     0,     0,     0,     0,     0,     0,     0,     0,\n",
       "            0,     0,     0,     0,     0,     0,     0,     0,     0,\n",
       "            0,     0,     0,     0,     0,     0,     0,     0,     0,\n",
       "            0,     0,     0,     0,     0,     0,     0,     0,     0,\n",
       "            0,     0,     0,     0,     0,     0,     0,     0,     0,\n",
       "            0,     0,     0,     0,     0, 55756, 45649, 24022,  5138,\n",
       "        34208, 54158, 32233, 22542, 24474, 24022, 26336, 59939,  1867,\n",
       "        55658],\n",
       "       [34737,  6398, 40376, 63172, 40381, 42682, 34683, 54158, 37676,\n",
       "        11577, 51694, 24474, 33631, 21857, 70752, 24022, 52202, 27956,\n",
       "        29605, 63047, 32491, 68638, 62352,  8374, 72119, 53967, 12874,\n",
       "        22126, 34208, 26235,  4752, 58138, 35728, 27956, 66085, 48279,\n",
       "         6398, 52805, 24474, 68638, 22640,  3856, 31089, 55045, 45649,\n",
       "        68638, 55465, 63172, 68771, 24022,  8005,  5251, 36528, 37169,\n",
       "        14087, 13996, 23274, 63172, 51845, 68638, 48562, 32491, 38634,\n",
       "        67570, 45368, 27956, 37684, 52603, 68638, 43807,  4843,  6398,\n",
       "        37169, 30078,  6214,  7407, 67739, 50391, 27956, 17587, 38611,\n",
       "        32491, 68638, 39737, 45488, 45488, 21857, 66609, 30078, 69133,\n",
       "        72119, 11914, 24022,  1072, 27956, 65919, 32491, 68638, 39737,\n",
       "        24474],\n",
       "       [66336, 59939, 63172, 24022, 45672, 58233, 16455,  8981, 53343,\n",
       "         6316, 38611, 55658, 64238, 26358, 23274, 16678, 27956, 23499,\n",
       "        52726, 37414, 58751, 40282, 64815, 34208, 53343, 55381,  8140,\n",
       "        24022,  8770, 45649, 28555, 51896, 27956,  3102, 14890, 59673,\n",
       "        65098, 45649, 54983, 10252, 56587, 27956, 68638, 60615, 63172,\n",
       "        24022, 28480, 47628, 32491, 20657, 53343, 58751, 73724, 16169,\n",
       "        68437,   298, 68547, 36987, 68638, 16455, 17224, 55150, 64857,\n",
       "        63172, 66685, 21857, 33930, 32070, 68638,  8981, 53343, 37948,\n",
       "         5059, 25145, 68638, 35885, 51107, 30549, 13284,  1602,  3102,\n",
       "        47689, 24380, 51896, 24053,  3761, 65427, 20785, 22185, 55862,\n",
       "        34208, 53756, 68638, 58326,  3894,  1867, 55658, 38968, 63922,\n",
       "         6214],\n",
       "       [    0,     0,     0,     0,     0,     0,     0,     0,     0,\n",
       "            0,     0,     0,     0,     0,     0,     0,     0,     0,\n",
       "            0,     0,     0,     0,     0,     0,     0,     0,     0,\n",
       "            0,     0,     0,     0,     0,     0,     0,     0,     0,\n",
       "            0,     0,     0,     0,     0,     0,     0,     0,     0,\n",
       "            0,     0,     0,     0,     0,  8805,  9593,  5403, 25145,\n",
       "        45870, 15684, 52222, 67030, 16232, 56095, 55937, 26916,  5421,\n",
       "        11292, 41896, 65670, 42309, 38005, 59673, 21472, 22417, 70378,\n",
       "        72272, 27956, 21519, 68638, 13303, 32491, 10366, 53343, 24022,\n",
       "        34076, 63172, 62516, 63172, 39087, 59673, 19282,  6807, 68638,\n",
       "         9360, 32491, 43651, 53343, 47628,  8748,  4491, 10252, 72114,\n",
       "        45649],\n",
       "       [    0,     0,     0,     0,     0,     0,     0,     0,     0,\n",
       "            0,     0,     0,     0,     0,     0,     0,     0,     0,\n",
       "            0,     0,     0,     0,     0,     0,     0,     0,     0,\n",
       "            0,     0,     0,     0,     0,     0,     0,     0,     0,\n",
       "            0,     0,     0,     0,     0,     0,     0,     0,     0,\n",
       "            0,     0,     0,     0,     0,     0,     0,     0,     0,\n",
       "        66712, 30710, 37706, 69911, 26916, 60911, 35948, 54752, 63784,\n",
       "        42703, 32491, 61261, 66467, 32477, 32491, 68638, 30702, 45649,\n",
       "        68638, 41093,  3417, 66712, 20372, 70033, 27956, 44653, 45649,\n",
       "        49453, 48066, 71349, 65966, 68638,  3009, 55658, 68547, 41093,\n",
       "         5138, 12140, 68638, 33254, 38005, 19959,  9403, 63172, 10252,\n",
       "        61887],\n",
       "       [    0,     0,     0,     0,     0,     0,     0,     0,     0,\n",
       "            0,     0,     0,     0,     0,     0,     0,     0,     0,\n",
       "            0,     0,     0,     0,     0,     0,     0,     0,     0,\n",
       "            0,     0,     0,     0,     0,     0,     0,     0,     0,\n",
       "            0,     0,     0,     0,     0,     0,     0,     0,     0,\n",
       "            0,     0,     0,     0,     0,     0,     0,     0,     0,\n",
       "            0,     0,     0,     0,     0,     0,     0,     0,     0,\n",
       "            0,     0,     0,     0,     0,     0,     0,     0,     0,\n",
       "            0,     0,     0,     0, 66712, 53343, 62790, 68638,  3856,\n",
       "        15043, 30710, 55324, 68638, 60231,   260, 62137, 59064, 15206,\n",
       "        54983,  1568, 72467, 34759, 24022, 65002, 66409, 45649, 34737,\n",
       "        58190],\n",
       "       [    0,     0,     0,     0,     0,     0,     0,     0,     0,\n",
       "            0,     0,     0,     0,     0,     0,     0,     0,     0,\n",
       "            0,     0,     0,     0,     0,     0,     0,     0,     0,\n",
       "            0,     0,     0,     0,     0,     0,     0,     0,     0,\n",
       "            0,     0,     0,     0,     0,     0,     0,     0,     0,\n",
       "            0,     0, 13494, 71571, 26916, 26661, 66712, 53343, 22630,\n",
       "        27956, 67739, 11577, 67043, 30710, 21857, 24699,  6214,  2511,\n",
       "         5421, 44652,  1867, 37179, 61261, 68638, 25652, 29750, 31089,\n",
       "        60431, 15862, 15997, 22632,  1867, 65670, 72467, 34071,  7071,\n",
       "        68638, 63437, 33780, 65670, 48426,  3911, 60441, 29006, 66712,\n",
       "        55756, 53343, 43023, 65835, 27956, 34071, 68638,  7587, 45649,\n",
       "        24022],\n",
       "       [    0,     0,     0,     0,     0,     0,     0,     0,     0,\n",
       "            0,     0,     0,     0,     0,     0,     0,     0,     0,\n",
       "            0,     0,     0,     0,     0,     0,     0,     0,     0,\n",
       "            0,     0,     0,     0,     0,     0,     0,     0,     0,\n",
       "            0,     0,     0,     0,     0,     0,     0,     0,     0,\n",
       "            0,     0,     0,     0,     0,     0,     0,     0,     0,\n",
       "            0,     0,     0,     0,     0,     0,     0,     0,     0,\n",
       "            0,     0,     0,     0,     0,     0,     0,     0,     0,\n",
       "            0,     0,     0,     0,     0,     0,     0, 66712, 53343,\n",
       "        72467, 68638, 66645, 24422, 60231, 30710, 54983, 60441, 23179,\n",
       "         4618,  7657, 35774,  3856, 45649,  3102, 45038, 65670, 39558,\n",
       "        58592],\n",
       "       [48066, 26916, 60441, 44697, 63784, 37489, 21103, 37669, 17700,\n",
       "        27956, 68638, 45372, 27956, 24760, 36943, 54983, 60441, 24514,\n",
       "        45649, 43710, 45038, 26916, 65928, 55658, 63784, 37489, 21857,\n",
       "        66712, 60441, 68638, 52365, 24514, 10593, 35256,  1867, 45649,\n",
       "         6646,  9418, 26916, 58592, 70752, 41896, 36943, 45804, 68771,\n",
       "        47665, 65670, 26916, 60431,  5421, 39300,  1867, 68638, 32464,\n",
       "        45649, 63784, 67656, 46378, 54983, 66609, 24022,   303, 70350,\n",
       "        65670, 46351, 68505, 55978, 45649, 51896, 45025, 65670, 18260,\n",
       "        16841,  9028, 57884, 53343, 24514, 45649, 63784, 26351, 20854,\n",
       "        21857, 36943, 53343, 25145, 54733, 68638, 49677, 55978, 45649,\n",
       "        39390, 45649,  3102,  3503, 59673, 68638, 58617, 56193, 45649,\n",
       "        58305]])"
      ]
     },
     "execution_count": 43,
     "metadata": {},
     "output_type": "execute_result"
    }
   ],
   "source": [
    "features[:10,:100]"
   ]
  },
  {
   "cell_type": "markdown",
   "metadata": {
    "deletable": true,
    "editable": true
   },
   "source": [
    "## Training, Validation, Test\n",
    "\n"
   ]
  },
  {
   "cell_type": "markdown",
   "metadata": {
    "deletable": true,
    "editable": true
   },
   "source": [
    "With our data in nice shape, we'll split it into training, validation, and test sets.\n",
    "\n",
    "> **Exercise:** Create the training, validation, and test sets here. You'll need to create sets for the features and the labels, `train_x` and `train_y` for example. Define a split fraction, `split_frac` as the fraction of data to keep in the training set. Usually this is set to 0.8 or 0.9. The rest of the data will be split in half to create the validation and testing data."
   ]
  },
  {
   "cell_type": "code",
   "execution_count": 44,
   "metadata": {
    "collapsed": false
   },
   "outputs": [
    {
     "name": "stdout",
     "output_type": "stream",
     "text": [
      "(25000, 200) (25001,)\n"
     ]
    }
   ],
   "source": [
    "print(features.shape, labels.shape)"
   ]
  },
  {
   "cell_type": "code",
   "execution_count": null,
   "metadata": {
    "collapsed": false,
    "deletable": true,
    "editable": true
   },
   "outputs": [],
   "source": [
    "split_frac = 0.8\n",
    "\n",
    "train_x, val_x = \n",
    "train_y, val_y = \n",
    "\n",
    "val_x, test_x = \n",
    "val_y, test_y = \n",
    "\n",
    "print(\"\\t\\t\\tFeature Shapes:\")\n",
    "print(\"Train set: \\t\\t{}\".format(train_x.shape), \n",
    "      \"\\nValidation set: \\t{}\".format(val_x.shape),\n",
    "      \"\\nTest set: \\t\\t{}\".format(test_x.shape))"
   ]
  },
  {
   "cell_type": "markdown",
   "metadata": {
    "deletable": true,
    "editable": true
   },
   "source": [
    "With train, validation, and text fractions of 0.8, 0.1, 0.1, the final shapes should look like:\n",
    "```\n",
    "                    Feature Shapes:\n",
    "Train set: \t\t (20000, 200) \n",
    "Validation set: \t(2500, 200) \n",
    "Test set: \t\t  (2501, 200)\n",
    "```"
   ]
  },
  {
   "cell_type": "markdown",
   "metadata": {
    "deletable": true,
    "editable": true
   },
   "source": [
    "## Build the graph\n",
    "\n",
    "Here, we'll build the graph. First up, defining the hyperparameters.\n",
    "\n",
    "* `lstm_size`: Number of units in the hidden layers in the LSTM cells. Usually larger is better performance wise. Common values are 128, 256, 512, etc.\n",
    "* `lstm_layers`: Number of LSTM layers in the network. I'd start with 1, then add more if I'm underfitting.\n",
    "* `batch_size`: The number of reviews to feed the network in one training pass. Typically this should be set as high as you can go without running out of memory.\n",
    "* `learning_rate`: Learning rate"
   ]
  },
  {
   "cell_type": "code",
   "execution_count": 31,
   "metadata": {
    "collapsed": true,
    "deletable": true,
    "editable": true
   },
   "outputs": [],
   "source": [
    "lstm_size = 256\n",
    "lstm_layers = 1\n",
    "batch_size = 500\n",
    "learning_rate = 0.001"
   ]
  },
  {
   "cell_type": "markdown",
   "metadata": {
    "deletable": true,
    "editable": true
   },
   "source": [
    "For the network itself, we'll be passing in our 200 element long review vectors. Each batch will be `batch_size` vectors. We'll also be using dropout on the LSTM layer, so we'll make a placeholder for the keep probability."
   ]
  },
  {
   "cell_type": "markdown",
   "metadata": {
    "deletable": true,
    "editable": true
   },
   "source": [
    "> **Exercise:** Create the `inputs_`, `labels_`, and drop out `keep_prob` placeholders using `tf.placeholder`. `labels_` needs to be two-dimensional to work with some functions later.  Since `keep_prob` is a scalar (a 0-dimensional tensor), you shouldn't provide a size to `tf.placeholder`."
   ]
  },
  {
   "cell_type": "code",
   "execution_count": 32,
   "metadata": {
    "collapsed": false,
    "deletable": true,
    "editable": true
   },
   "outputs": [],
   "source": [
    "n_words = len(vocab)\n",
    "\n",
    "# Create the graph object\n",
    "graph = tf.Graph()\n",
    "# Add nodes to the graph\n",
    "with graph.as_default():\n",
    "    inputs_ = \n",
    "    labels_ = \n",
    "    keep_prob = "
   ]
  },
  {
   "cell_type": "markdown",
   "metadata": {
    "deletable": true,
    "editable": true
   },
   "source": [
    "### Embedding\n",
    "\n",
    "Now we'll add an embedding layer. We need to do this because there are 74000 words in our vocabulary. It is massively inefficient to one-hot encode our classes here. You should remember dealing with this problem from the word2vec lesson. Instead of one-hot encoding, we can have an embedding layer and use that layer as a lookup table. You could train an embedding layer using word2vec, then load it here. But, it's fine to just make a new layer and let the network learn the weights.\n",
    "\n",
    "> **Exercise:** Create the embedding lookup matrix as a `tf.Variable`. Use that embedding matrix to get the embedded vectors to pass to the LSTM cell with [`tf.nn.embedding_lookup`](https://www.tensorflow.org/api_docs/python/tf/nn/embedding_lookup). This function takes the embedding matrix and an input tensor, such as the review vectors. Then, it'll return another tensor with the embedded vectors. So, if the embedding layer has 200 units, the function will return a tensor with size [batch_size, 200].\n",
    "\n"
   ]
  },
  {
   "cell_type": "code",
   "execution_count": 33,
   "metadata": {
    "collapsed": false,
    "deletable": true,
    "editable": true
   },
   "outputs": [],
   "source": [
    "# Size of the embedding vectors (number of units in the embedding layer)\n",
    "embed_size = 300 \n",
    "\n",
    "with graph.as_default():\n",
    "    embedding = \n",
    "    embed = "
   ]
  },
  {
   "cell_type": "markdown",
   "metadata": {
    "deletable": true,
    "editable": true
   },
   "source": [
    "### LSTM cell\n",
    "\n",
    "<img src=\"assets/network_diagram.png\" width=400px>\n",
    "\n",
    "Next, we'll create our LSTM cells to use in the recurrent network ([TensorFlow documentation](https://www.tensorflow.org/api_docs/python/tf/contrib/rnn)). Here we are just defining what the cells look like. This isn't actually building the graph, just defining the type of cells we want in our graph.\n",
    "\n",
    "To create a basic LSTM cell for the graph, you'll want to use `tf.contrib.rnn.BasicLSTMCell`. Looking at the function documentation:\n",
    "\n",
    "```\n",
    "tf.contrib.rnn.BasicLSTMCell(num_units, forget_bias=1.0, input_size=None, state_is_tuple=True, activation=<function tanh at 0x109f1ef28>)\n",
    "```\n",
    "\n",
    "you can see it takes a parameter called `num_units`, the number of units in the cell, called `lstm_size` in this code. So then, you can write something like \n",
    "\n",
    "```\n",
    "lstm = tf.contrib.rnn.BasicLSTMCell(num_units)\n",
    "```\n",
    "\n",
    "to create an LSTM cell with `num_units`. Next, you can add dropout to the cell with `tf.contrib.rnn.DropoutWrapper`. This just wraps the cell in another cell, but with dropout added to the inputs and/or outputs. It's a really convenient way to make your network better with almost no effort! So you'd do something like\n",
    "\n",
    "```\n",
    "drop = tf.contrib.rnn.DropoutWrapper(cell, output_keep_prob=keep_prob)\n",
    "```\n",
    "\n",
    "Most of the time, you're network will have better performance with more layers. That's sort of the magic of deep learning, adding more layers allows the network to learn really complex relationships. Again, there is a simple way to create multiple layers of LSTM cells with `tf.contrib.rnn.MultiRNNCell`:\n",
    "\n",
    "```\n",
    "cell = tf.contrib.rnn.MultiRNNCell([drop] * lstm_layers)\n",
    "```\n",
    "\n",
    "Here, `[drop] * lstm_layers` creates a list of cells (`drop`) that is `lstm_layers` long. The `MultiRNNCell` wrapper builds this into multiple layers of RNN cells, one for each cell in the list.\n",
    "\n",
    "So the final cell you're using in the network is actually multiple (or just one) LSTM cells with dropout. But it all works the same from an achitectural viewpoint, just a more complicated graph in the cell.\n",
    "\n",
    "> **Exercise:** Below, use `tf.contrib.rnn.BasicLSTMCell` to create an LSTM cell. Then, add drop out to it with `tf.contrib.rnn.DropoutWrapper`. Finally, create multiple LSTM layers with `tf.contrib.rnn.MultiRNNCell`.\n",
    "\n",
    "Here is [a tutorial on building RNNs](https://www.tensorflow.org/tutorials/recurrent) that will help you out.\n"
   ]
  },
  {
   "cell_type": "code",
   "execution_count": 34,
   "metadata": {
    "collapsed": false,
    "deletable": true,
    "editable": true
   },
   "outputs": [],
   "source": [
    "with graph.as_default():\n",
    "    # Your basic LSTM cell\n",
    "    lstm = \n",
    "    \n",
    "    # Add dropout to the cell\n",
    "    drop = \n",
    "    \n",
    "    # Stack up multiple LSTM layers, for deep learning\n",
    "    cell = \n",
    "    \n",
    "    # Getting an initial state of all zeros\n",
    "    initial_state = cell.zero_state(batch_size, tf.float32)"
   ]
  },
  {
   "cell_type": "markdown",
   "metadata": {
    "deletable": true,
    "editable": true
   },
   "source": [
    "### RNN forward pass\n",
    "\n",
    "<img src=\"assets/network_diagram.png\" width=400px>\n",
    "\n",
    "Now we need to actually run the data through the RNN nodes. You can use [`tf.nn.dynamic_rnn`](https://www.tensorflow.org/api_docs/python/tf/nn/dynamic_rnn) to do this. You'd pass in the RNN cell you created (our multiple layered LSTM `cell` for instance), and the inputs to the network.\n",
    "\n",
    "```\n",
    "outputs, final_state = tf.nn.dynamic_rnn(cell, inputs, initial_state=initial_state)\n",
    "```\n",
    "\n",
    "Above I created an initial state, `initial_state`, to pass to the RNN. This is the cell state that is passed between the hidden layers in successive time steps. `tf.nn.dynamic_rnn` takes care of most of the work for us. We pass in our cell and the input to the cell, then it does the unrolling and everything else for us. It returns outputs for each time step and the final_state of the hidden layer.\n",
    "\n",
    "> **Exercise:** Use `tf.nn.dynamic_rnn` to add the forward pass through the RNN. Remember that we're actually passing in vectors from the embedding layer, `embed`.\n",
    "\n"
   ]
  },
  {
   "cell_type": "code",
   "execution_count": 35,
   "metadata": {
    "collapsed": false,
    "deletable": true,
    "editable": true
   },
   "outputs": [],
   "source": [
    "with graph.as_default():\n",
    "    outputs, final_state = "
   ]
  },
  {
   "cell_type": "markdown",
   "metadata": {
    "deletable": true,
    "editable": true
   },
   "source": [
    "### Output\n",
    "\n",
    "We only care about the final output, we'll be using that as our sentiment prediction. So we need to grab the last output with `outputs[:, -1]`, the calculate the cost from that and `labels_`."
   ]
  },
  {
   "cell_type": "code",
   "execution_count": 36,
   "metadata": {
    "collapsed": false,
    "deletable": true,
    "editable": true
   },
   "outputs": [],
   "source": [
    "with graph.as_default():\n",
    "    predictions = tf.contrib.layers.fully_connected(outputs[:, -1], 1, activation_fn=tf.sigmoid)\n",
    "    cost = tf.losses.mean_squared_error(labels_, predictions)\n",
    "    \n",
    "    optimizer = tf.train.AdamOptimizer(learning_rate).minimize(cost)"
   ]
  },
  {
   "cell_type": "markdown",
   "metadata": {
    "deletable": true,
    "editable": true
   },
   "source": [
    "### Validation accuracy\n",
    "\n",
    "Here we can add a few nodes to calculate the accuracy which we'll use in the validation pass."
   ]
  },
  {
   "cell_type": "code",
   "execution_count": 37,
   "metadata": {
    "collapsed": false,
    "deletable": true,
    "editable": true
   },
   "outputs": [],
   "source": [
    "with graph.as_default():\n",
    "    correct_pred = tf.equal(tf.cast(tf.round(predictions), tf.int32), labels_)\n",
    "    accuracy = tf.reduce_mean(tf.cast(correct_pred, tf.float32))"
   ]
  },
  {
   "cell_type": "markdown",
   "metadata": {
    "deletable": true,
    "editable": true
   },
   "source": [
    "### Batching\n",
    "\n",
    "This is a simple function for returning batches from our data. First it removes data such that we only have full batches. Then it iterates through the `x` and `y` arrays and returns slices out of those arrays with size `[batch_size]`."
   ]
  },
  {
   "cell_type": "code",
   "execution_count": 38,
   "metadata": {
    "collapsed": true,
    "deletable": true,
    "editable": true
   },
   "outputs": [],
   "source": [
    "def get_batches(x, y, batch_size=100):\n",
    "    \n",
    "    n_batches = len(x)//batch_size\n",
    "    x, y = x[:n_batches*batch_size], y[:n_batches*batch_size]\n",
    "    for ii in range(0, len(x), batch_size):\n",
    "        yield x[ii:ii+batch_size], y[ii:ii+batch_size]"
   ]
  },
  {
   "cell_type": "markdown",
   "metadata": {
    "deletable": true,
    "editable": true
   },
   "source": [
    "## Training\n",
    "\n",
    "Below is the typical training code. If you want to do this yourself, feel free to delete all this code and implement it yourself. Before you run this, make sure the `checkpoints` directory exists."
   ]
  },
  {
   "cell_type": "code",
   "execution_count": null,
   "metadata": {
    "collapsed": false,
    "deletable": true,
    "editable": true
   },
   "outputs": [],
   "source": [
    "epochs = 10\n",
    "\n",
    "with graph.as_default():\n",
    "    saver = tf.train.Saver()\n",
    "\n",
    "with tf.Session(graph=graph) as sess:\n",
    "    sess.run(tf.global_variables_initializer())\n",
    "    iteration = 1\n",
    "    for e in range(epochs):\n",
    "        state = sess.run(initial_state)\n",
    "        \n",
    "        for ii, (x, y) in enumerate(get_batches(train_x, train_y, batch_size), 1):\n",
    "            feed = {inputs_: x,\n",
    "                    labels_: y[:, None],\n",
    "                    keep_prob: 0.5,\n",
    "                    initial_state: state}\n",
    "            loss, state, _ = sess.run([cost, final_state, optimizer], feed_dict=feed)\n",
    "            \n",
    "            if iteration%5==0:\n",
    "                print(\"Epoch: {}/{}\".format(e, epochs),\n",
    "                      \"Iteration: {}\".format(iteration),\n",
    "                      \"Train loss: {:.3f}\".format(loss))\n",
    "\n",
    "            if iteration%25==0:\n",
    "                val_acc = []\n",
    "                val_state = sess.run(cell.zero_state(batch_size, tf.float32))\n",
    "                for x, y in get_batches(val_x, val_y, batch_size):\n",
    "                    feed = {inputs_: x,\n",
    "                            labels_: y[:, None],\n",
    "                            keep_prob: 1,\n",
    "                            initial_state: val_state}\n",
    "                    batch_acc, val_state = sess.run([accuracy, final_state], feed_dict=feed)\n",
    "                    val_acc.append(batch_acc)\n",
    "                print(\"Val acc: {:.3f}\".format(np.mean(val_acc)))\n",
    "            iteration +=1\n",
    "    saver.save(sess, \"checkpoints/sentiment.ckpt\")"
   ]
  },
  {
   "cell_type": "markdown",
   "metadata": {
    "deletable": true,
    "editable": true
   },
   "source": [
    "## Testing"
   ]
  },
  {
   "cell_type": "code",
   "execution_count": null,
   "metadata": {
    "collapsed": false,
    "deletable": true,
    "editable": true
   },
   "outputs": [],
   "source": [
    "test_acc = []\n",
    "with tf.Session(graph=graph) as sess:\n",
    "    saver.restore(sess, tf.train.latest_checkpoint('/output/checkpoints'))\n",
    "    test_state = sess.run(cell.zero_state(batch_size, tf.float32))\n",
    "    for ii, (x, y) in enumerate(get_batches(test_x, test_y, batch_size), 1):\n",
    "        feed = {inputs_: x,\n",
    "                labels_: y[:, None],\n",
    "                keep_prob: 1,\n",
    "                initial_state: test_state}\n",
    "        batch_acc, test_state = sess.run([accuracy, final_state], feed_dict=feed)\n",
    "        test_acc.append(batch_acc)\n",
    "    print(\"Test accuracy: {:.3f}\".format(np.mean(test_acc)))"
   ]
  }
 ],
 "metadata": {
  "kernelspec": {
   "display_name": "Python 3",
   "language": "python",
   "name": "python3"
  },
  "language_info": {
   "codemirror_mode": {
    "name": "ipython",
    "version": 3
   },
   "file_extension": ".py",
   "mimetype": "text/x-python",
   "name": "python",
   "nbconvert_exporter": "python",
   "pygments_lexer": "ipython3",
   "version": "3.5.3"
  }
 },
 "nbformat": 4,
 "nbformat_minor": 2
}
